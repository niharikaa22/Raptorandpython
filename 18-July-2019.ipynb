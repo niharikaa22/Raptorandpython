{
 "cells": [
  {
   "cell_type": "code",
   "execution_count": 18,
   "metadata": {},
   "outputs": [
    {
     "name": "stdout",
     "output_type": "stream",
     "text": [
      "['0b10', '0b100']\n",
      "0 0\n"
     ]
    }
   ],
   "source": [
    "l=[2,4]\n",
    "k=list(bin(i) for i in l)\n",
    "print(k)\n",
    "for i in range(len(k[1])):\n",
    "    for j in range(i+1,len(k)):\n",
    "        print(k[i][i],k[j][i])\n",
    "\n",
    "    \n"
   ]
  },
  {
   "cell_type": "code",
   "execution_count": 22,
   "metadata": {},
   "outputs": [
    {
     "data": {
      "text/plain": [
       "'0b1010'"
      ]
     },
     "execution_count": 22,
     "metadata": {},
     "output_type": "execute_result"
    }
   ],
   "source": [
    "bin(10)"
   ]
  },
  {
   "cell_type": "code",
   "execution_count": 30,
   "metadata": {},
   "outputs": [
    {
     "data": {
      "text/plain": [
       "'0010'"
      ]
     },
     "execution_count": 30,
     "metadata": {},
     "output_type": "execute_result"
    }
   ],
   "source": [
    "s=\"10\"\n",
    "s='0'*2+s\n",
    "s\n"
   ]
  },
  {
   "cell_type": "code",
   "execution_count": 68,
   "metadata": {},
   "outputs": [
    {
     "name": "stdout",
     "output_type": "stream",
     "text": [
      "1\n",
      "2 4\n",
      "2\n"
     ]
    }
   ],
   "source": [
    "##Monk and his Friend\n",
    "\n",
    "t=int(input())\n",
    "for i in range(t):\n",
    "    s=list(map(int,input().split()))\n",
    "    #print(s)\n",
    "    count=0\n",
    "    k=list(bin(i).replace('0b','') for i in s)\n",
    "    l=[]\n",
    "    #print(k,len(k))\n",
    "    #print(k[0],k[1])\n",
    "    a=abs(len(k[0])-len(k[1]))\n",
    "    #print(a)\n",
    "    if len(k[0])!=len(k[1]):\n",
    "        if len(k[0])<len(k[1]):\n",
    "            l.append('0'*a+k[0])\n",
    "            l.append(k[1])\n",
    "        elif len(k[0])>len(k[1]):\n",
    "            l.append('0'*a+k[1])\n",
    "            l.append(k[0])\n",
    "    else:\n",
    "        l.append(k[0])\n",
    "        l.append(k[1])\n",
    "        \n",
    "\n",
    "    #print(l)\n",
    "    n=l[0]\n",
    "    b=l[1]\n",
    "    for i in range(len(n)):\n",
    "        if n[i]!=b[i]:\n",
    "            count+=1\n",
    "        \n",
    "    print(count)\n",
    "        \n",
    "        "
   ]
  },
  {
   "cell_type": "code",
   "execution_count": 76,
   "metadata": {},
   "outputs": [
    {
     "name": "stdout",
     "output_type": "stream",
     "text": [
      "10 11\n"
     ]
    }
   ],
   "source": [
    "print(bin(2).replace('0b',''),bin(3).replace('0b',''))\n"
   ]
  },
  {
   "cell_type": "code",
   "execution_count": 97,
   "metadata": {},
   "outputs": [
    {
     "name": "stdout",
     "output_type": "stream",
     "text": [
      "1\n",
      "4\n",
      "['1', '10', '11']\n",
      "['01', '10']\n",
      "['01', '11']\n",
      "['10', '11']\n"
     ]
    }
   ],
   "source": [
    "t=int(input())\n",
    "for i in range(t):\n",
    "    n=list(i for i in range(1,int(input())))\n",
    "    #print(n)\n",
    "    k=list(bin(i).replace('0b','') for i in n)\n",
    "    print(k)\n",
    "    count=0\n",
    "    \n",
    "    #print(k,len(k))\n",
    "    #print(k[0],k[1])\n",
    "    for i in range(len(k)-1):\n",
    "        for j in range(i+1,len(k)):\n",
    "            l=[]\n",
    "            a=abs(len(k[i])-len(k[j]))\n",
    "            #print(a)\n",
    "            if len(k[i])!=len(k[j]):\n",
    "                if len(k[i])<len(k[j]):\n",
    "                    l.append('0'*a+k[i])\n",
    "                    l.append(k[j])\n",
    "                elif len(k[0])>len(k[i]):\n",
    "                    l.append('0'*a+k[j])\n",
    "                    l.append(k[i])\n",
    "            else:\n",
    "                l.append(k[i])\n",
    "                l.append(k[j])\n",
    "            print(l)\n",
    "    \n",
    "            \n",
    "        \n",
    "        "
   ]
  },
  {
   "cell_type": "code",
   "execution_count": 108,
   "metadata": {},
   "outputs": [
    {
     "name": "stdout",
     "output_type": "stream",
     "text": [
      "1\n",
      "2 2\n",
      "3\n",
      "1 1\n",
      "1 2\n",
      "1 2\n",
      "4\n"
     ]
    }
   ],
   "source": [
    "t=int(input())\n",
    "for i in range(t):\n",
    "    gp=list(map(int,(input().split())))\n",
    "    p=(int(input()))\n",
    "    \n",
    "    for i in range(p):\n",
    "        b=0\n",
    "        n=list(map(int,input().split()))\n",
    "        for i in range(len(n)):\n",
    "            if n[0]==1:\n",
    "                b=b+gp[0]\n",
    "            elif n[1]==1:\n",
    "                b=b+gp[1]\n",
    "            elif n[0] and n[1] ==1:\n",
    "                b=b+gp[1]+gp[0]\n",
    "    \n",
    "    print(b)\n",
    "            "
   ]
  },
  {
   "cell_type": "code",
   "execution_count": null,
   "metadata": {},
   "outputs": [],
   "source": []
  }
 ],
 "metadata": {
  "kernelspec": {
   "display_name": "Python 3",
   "language": "python",
   "name": "python3"
  },
  "language_info": {
   "codemirror_mode": {
    "name": "ipython",
    "version": 3
   },
   "file_extension": ".py",
   "mimetype": "text/x-python",
   "name": "python",
   "nbconvert_exporter": "python",
   "pygments_lexer": "ipython3",
   "version": "3.7.3"
  }
 },
 "nbformat": 4,
 "nbformat_minor": 2
}
