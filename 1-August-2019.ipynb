{
 "cells": [
  {
   "cell_type": "code",
   "execution_count": 42,
   "metadata": {},
   "outputs": [
    {
     "name": "stdout",
     "output_type": "stream",
     "text": [
      "precarious kangaroos\n",
      "k\n",
      "a\n",
      "{4: 'a', 11: 'k', 12: 'a', 15: 'a'}\n",
      "[4, 12, 15] [11]\n",
      "False\n"
     ]
    }
   ],
   "source": [
    "a=input()\n",
    "b=input()\n",
    "c=input()\n",
    "#print(a)\n",
    "l={}\n",
    "for i in range(len(a)):\n",
    "    if ord(a[i])==ord(b[0]) or ord(a[i])==ord(c[0]):\n",
    "        l[i]=a[i]\n",
    "print(l)\n",
    "k=[]\n",
    "m=[]\n",
    "for i in l.items():\n",
    "    if i[1]==b:\n",
    "        k.append(i[0])\n",
    "    else:\n",
    "        m.append(i[0])\n",
    "print(m,k)\n",
    "if max(k)<min(m):\n",
    "    print(\"True\")\n",
    "else:\n",
    "    print(\"False\")\n",
    "        \n",
    "        \n"
   ]
  },
  {
   "cell_type": "code",
   "execution_count": 41,
   "metadata": {},
   "outputs": [
    {
     "data": {
      "text/plain": [
       "97"
      ]
     },
     "execution_count": 41,
     "metadata": {},
     "output_type": "execute_result"
    }
   ],
   "source": [
    "ord('a')"
   ]
  },
  {
   "cell_type": "code",
   "execution_count": 17,
   "metadata": {},
   "outputs": [
    {
     "data": {
      "text/plain": [
       "106"
      ]
     },
     "execution_count": 17,
     "metadata": {},
     "output_type": "execute_result"
    }
   ],
   "source": [
    "ord('j')"
   ]
  },
  {
   "cell_type": "code",
   "execution_count": null,
   "metadata": {},
   "outputs": [],
   "source": []
  }
 ],
 "metadata": {
  "kernelspec": {
   "display_name": "Python 3",
   "language": "python",
   "name": "python3"
  },
  "language_info": {
   "codemirror_mode": {
    "name": "ipython",
    "version": 3
   },
   "file_extension": ".py",
   "mimetype": "text/x-python",
   "name": "python",
   "nbconvert_exporter": "python",
   "pygments_lexer": "ipython3",
   "version": "3.7.3"
  }
 },
 "nbformat": 4,
 "nbformat_minor": 2
}
