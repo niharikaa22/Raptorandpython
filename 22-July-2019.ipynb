{
 "cells": [
  {
   "cell_type": "code",
   "execution_count": null,
   "metadata": {},
   "outputs": [],
   "source": [
    "\n",
    "def bindec(n):\n",
    "    s=0\n",
    "    for i in range(len(n)):\n",
    "        s+=(2**i)*(int(n[(t-1)-i]))\n",
    "    return s\n",
    "def rotate(s):\n",
    "    l=[]\n",
    "    k=[]\n",
    "    count=0\n",
    "    for i in range(1,t+1):\n",
    "        l.append(s[t-i:]+s[:t-i])\n",
    "    for i in range(len(l)):\n",
    "        k.append(bindec(l[i]))\n",
    "        if k[i]%2==0:\n",
    "            count+=1\n",
    "    print(count)\n",
    "n=int(input())\n",
    "for i in range(n):\n",
    "    t=int(input())\n",
    "    s=input()\n",
    "    rotate(s)"
   ]
  },
  {
   "cell_type": "code",
   "execution_count": 66,
   "metadata": {},
   "outputs": [
    {
     "name": "stdout",
     "output_type": "stream",
     "text": [
      "7\n"
     ]
    }
   ],
   "source": [
    "l=[\"101\",\"111\"]\n",
    "\n",
    "for i in l:\n",
    "    k=0\n",
    "    for j in range(len(i)):\n",
    "        k+=(int(i[len(i)-1-j])*2**j)\n",
    "print(k)"
   ]
  },
  {
   "cell_type": "code",
   "execution_count": 38,
   "metadata": {},
   "outputs": [
    {
     "data": {
      "text/plain": [
       "7"
      ]
     },
     "execution_count": 38,
     "metadata": {},
     "output_type": "execute_result"
    }
   ],
   "source": [
    "l=0\n",
    "for i in range(len(b)):\n",
    "    l+=int(b[(len(b)-1)-i])*2**i\n",
    "l\n",
    "    \n"
   ]
  },
  {
   "cell_type": "code",
   "execution_count": 18,
   "metadata": {},
   "outputs": [
    {
     "data": {
      "text/plain": [
       "'1'"
      ]
     },
     "execution_count": 18,
     "metadata": {},
     "output_type": "execute_result"
    }
   ],
   "source": [
    "b=\"110\"\n",
    "b[(len(b)-1)-i]"
   ]
  },
  {
   "cell_type": "code",
   "execution_count": 67,
   "metadata": {},
   "outputs": [
    {
     "name": "stdout",
     "output_type": "stream",
     "text": [
      "1\n",
      "3\n",
      "101\n",
      "1\n"
     ]
    }
   ],
   "source": [
    "t=int(input())\n",
    "for i in range(t):\n",
    "    n=int(input())\n",
    "    b=input()\n",
    "    a=[]\n",
    "    count=0\n",
    "    l=[b[len(b)-i:]+b[:len(b)-i] for i in range(0,len(b))]\n",
    "    for i in l:\n",
    "        k=0\n",
    "        for j in range(len(i)):\n",
    "            k+=(int(i[len(i)-1-j])*2**j)\n",
    "        if k%2==0:\n",
    "            count+=1\n",
    "    print(count)"
   ]
  },
  {
   "cell_type": "code",
   "execution_count": null,
   "metadata": {},
   "outputs": [],
   "source": []
  }
 ],
 "metadata": {
  "kernelspec": {
   "display_name": "Python 3",
   "language": "python",
   "name": "python3"
  },
  "language_info": {
   "codemirror_mode": {
    "name": "ipython",
    "version": 3
   },
   "file_extension": ".py",
   "mimetype": "text/x-python",
   "name": "python",
   "nbconvert_exporter": "python",
   "pygments_lexer": "ipython3",
   "version": "3.7.3"
  }
 },
 "nbformat": 4,
 "nbformat_minor": 2
}
