{
 "cells": [
  {
   "cell_type": "code",
   "execution_count": 17,
   "metadata": {},
   "outputs": [
    {
     "name": "stdout",
     "output_type": "stream",
     "text": [
      "6\n"
     ]
    }
   ],
   "source": [
    "# Function to print all numbers divisible by 6 and not a factor of 100 in a given range(lb, ub) inclusive\n",
    "\n",
    "def divisbleby6(lb,ub):\n",
    "    for i in range(lb,ub+1):\n",
    "        if (i%6==0):\n",
    "            if (i%100)!=0:\n",
    "                print(i)\n",
    "    return\n",
    "divisbleby6(1,6)\n"
   ]
  },
  {
   "cell_type": "code",
   "execution_count": 18,
   "metadata": {},
   "outputs": [
    {
     "name": "stdout",
     "output_type": "stream",
     "text": [
      "2 -- 8\n",
      "4 -- 64\n",
      "6 -- 216\n",
      "8 -- 512\n",
      "10 -- 1000\n",
      "12 -- 1728\n",
      "14 -- 2744\n",
      "16 -- 4096\n",
      "18 -- 5832\n",
      "20 -- 8000\n",
      "22 -- 10648\n",
      "24 -- 13824\n",
      "26 -- 17576\n",
      "28 -- 21952\n",
      "30 -- 27000\n",
      "32 -- 32768\n",
      "34 -- 39304\n",
      "36 -- 46656\n",
      "38 -- 54872\n",
      "40 -- 64000\n",
      "42 -- 74088\n",
      "44 -- 85184\n",
      "46 -- 97336\n",
      "48 -- 110592\n",
      "50 -- 125000\n",
      "52 -- 140608\n",
      "54 -- 157464\n",
      "56 -- 175616\n",
      "58 -- 195112\n",
      "60 -- 216000\n",
      "62 -- 238328\n",
      "64 -- 262144\n",
      "66 -- 287496\n",
      "68 -- 314432\n",
      "70 -- 343000\n",
      "72 -- 373248\n",
      "74 -- 405224\n",
      "76 -- 438976\n",
      "78 -- 474552\n",
      "80 -- 512000\n",
      "82 -- 551368\n",
      "84 -- 592704\n",
      "86 -- 636056\n",
      "88 -- 681472\n",
      "90 -- 729000\n",
      "92 -- 778688\n",
      "94 -- 830584\n",
      "96 -- 884736\n",
      "98 -- 941192\n",
      "100 -- 1000000\n"
     ]
    }
   ],
   "source": [
    "# Function to find the average of cubes of all even numbers in a given range(lb, ub) inclusive\n",
    "\n",
    "def evencube(lb,ub):\n",
    "    for i in range(lb,ub+1):\n",
    "        if i%2==0:\n",
    "            cube=i**3\n",
    "            print(i,\"--\",cube)\n",
    "    return\n",
    "evencube(1,100)"
   ]
  },
  {
   "cell_type": "code",
   "execution_count": 19,
   "metadata": {},
   "outputs": [
    {
     "data": {
      "text/plain": [
       "[1, 5]"
      ]
     },
     "execution_count": 19,
     "metadata": {},
     "output_type": "execute_result"
    }
   ],
   "source": [
    "# Function to generate the list of factors for a given number\n",
    "\n",
    "def listfactors(n):\n",
    "    l=list(i for i in range(1,n+1) if n%i==0)\n",
    "    return l\n",
    "listfactors(5)"
   ]
  },
  {
   "cell_type": "code",
   "execution_count": 20,
   "metadata": {},
   "outputs": [
    {
     "data": {
      "text/plain": [
       "120"
      ]
     },
     "execution_count": 20,
     "metadata": {},
     "output_type": "execute_result"
    }
   ],
   "source": [
    "# Function to calculate the factorial of a given number\n",
    "\n",
    "def factorial(n):\n",
    "    fact=1\n",
    "    for i in range(1,n+1):\n",
    "        fact=fact*i\n",
    "    return fact\n",
    "factorial(5)"
   ]
  },
  {
   "cell_type": "code",
   "execution_count": 21,
   "metadata": {},
   "outputs": [
    {
     "data": {
      "text/plain": [
       "'Prime Number'"
      ]
     },
     "execution_count": 21,
     "metadata": {},
     "output_type": "execute_result"
    }
   ],
   "source": [
    "# Function to check if a given number is Prime\n",
    "\n",
    "def isprime(n):\n",
    "    if len(listfactors(n))==2:\n",
    "        return \"Prime Number\"\n",
    "    else:\n",
    "        return \"Not a prime number\"\n",
    "isprime(17)"
   ]
  },
  {
   "cell_type": "code",
   "execution_count": 26,
   "metadata": {},
   "outputs": [
    {
     "data": {
      "text/plain": [
       "12.9"
      ]
     },
     "execution_count": 26,
     "metadata": {},
     "output_type": "execute_result"
    }
   ],
   "source": [
    "# Function to calculate the average first N Prime numbers\n",
    "\n",
    "def avgprimenumbers(n):\n",
    "    sum1=0\n",
    "    count=0\n",
    "    for i in range(1,n+1):\n",
    "        if isprime(i)==\"Prime Number\":\n",
    "            #print(i)\n",
    "            sum1+=i\n",
    "            count+=1\n",
    "    #print(count)\n",
    "    return sum1/count\n",
    "avgprimenumbers(30)\n",
    "            \n",
    "            "
   ]
  },
  {
   "cell_type": "code",
   "execution_count": 27,
   "metadata": {},
   "outputs": [
    {
     "name": "stdout",
     "output_type": "stream",
     "text": [
      "6\n",
      "28\n",
      "496\n"
     ]
    }
   ],
   "source": [
    "# Function to generate all Perfect numbers in a given range\n",
    "def factors(a):\n",
    "    l=[]\n",
    "    for i in range(1,a):\n",
    "        if a%i==0:\n",
    "            l.append(i)\n",
    "    return l\n",
    "        \n",
    "def perfectnumber(lb,ub):\n",
    "    for i in range(lb,ub+1):\n",
    "        if sum(factors(i))==i:\n",
    "            print(i)\n",
    "    return\n",
    "perfectnumber(1,500)\n",
    "        \n",
    "        \n",
    "        \n",
    "        \n",
    "        "
   ]
  },
  {
   "cell_type": "markdown",
   "metadata": {},
   "source": [
    "#### Advanced Problem Set( Optional )\n"
   ]
  },
  {
   "cell_type": "code",
   "execution_count": 28,
   "metadata": {},
   "outputs": [
    {
     "data": {
      "text/plain": [
       "30.6"
      ]
     },
     "execution_count": 28,
     "metadata": {},
     "output_type": "execute_result"
    }
   ],
   "source": [
    "\n",
    "# Function to calculate the average of all factorials in a given range\n",
    "\n",
    "def avgfactorials(lb,ub):\n",
    "    sum=0\n",
    "    count=0\n",
    "    for i in range(lb,ub+1):\n",
    "        sum+=factorial(i)\n",
    "        count+=1\n",
    "    return sum/count\n",
    "avgfactorials(1,5)\n"
   ]
  },
  {
   "cell_type": "code",
   "execution_count": 14,
   "metadata": {},
   "outputs": [
    {
     "name": "stdout",
     "output_type": "stream",
     "text": [
      "1\n",
      "153\n",
      "371\n",
      "407\n"
     ]
    }
   ],
   "source": [
    "# Function to generate N odd Armstrong numbers\n",
    "\n",
    "def isAmstrong(n):\n",
    "    s=0\n",
    "    for i in range(0,len(n)):\n",
    "        s+=int(n[i])**3\n",
    "    if s==int(n):\n",
    "        return \"amstrong\"\n",
    "    else:\n",
    "        return \"not amstrong\"\n",
    "#isAmstrong(str(n))\n",
    "\n",
    "\n",
    "\n",
    "def oddamstrong(lb,ub):\n",
    "    for i in range(int(lb),int(ub)+1):\n",
    "        if i%2!=0:\n",
    "            if isAmstrong(str(i))==\"amstrong\":\n",
    "                print(i)\n",
    "    return\n",
    "oddamstrong(str(1),str(1000))\n",
    "            \n",
    "    "
   ]
  },
  {
   "cell_type": "code",
   "execution_count": 30,
   "metadata": {},
   "outputs": [
    {
     "name": "stdout",
     "output_type": "stream",
     "text": [
      "10 x 100 = 1000\n",
      "10 x 101 = 1010\n",
      "10 x 102 = 1020\n"
     ]
    }
   ],
   "source": [
    "# Function to generate Multiplication table for a number in a given range\n",
    "# 10 in the range(100, 102) inclusive\n",
    "# 10 x 100 = 1000\n",
    "# 10 x 101 = 1010\n",
    "# 10 x 102 = 1020\n",
    "\n",
    "def multable(n,lb,ub):\n",
    "    for i in range(lb,ub+1):\n",
    "        m=n*i\n",
    "        print(n,\"x\",i,\"=\",m)\n",
    "    return\n",
    "multable(10,100,102)"
   ]
  },
  {
   "cell_type": "markdown",
   "metadata": {},
   "source": [
    "#### Problems That needs a Try\n",
    "\n"
   ]
  },
  {
   "cell_type": "code",
   "execution_count": 65,
   "metadata": {},
   "outputs": [
    {
     "name": "stdout",
     "output_type": "stream",
     "text": [
      "jjfkdj#@Oeo2o\n",
      "JJFKDJ#@oEO2O"
     ]
    }
   ],
   "source": [
    "# You are given a string and your task is to swap cases. In other words, convert all lowercase letters to\n",
    "#uppercase letters and vice versa. (The String may contain special characters).\n",
    "\n",
    "n=input()\n",
    "def swap(n):\n",
    "    for i in range(0,len(n)):\n",
    "        if n[i].islower():\n",
    "            print(n[i].upper(),end=\"\")\n",
    "        elif n[i].isupper():\n",
    "            print(n[i].lower(),end=\"\")\n",
    "        else:\n",
    "            print(n[i],end=\"\")\n",
    "    return \n",
    "swap(n)\n",
    "                \n",
    "            \n",
    "            \n",
    "    "
   ]
  },
  {
   "cell_type": "code",
   "execution_count": 80,
   "metadata": {},
   "outputs": [
    {
     "name": "stdout",
     "output_type": "stream",
     "text": [
      "Not Weird\n"
     ]
    }
   ],
   "source": [
    "# Given an integer, ’n’ , perform the following conditional actions:\n",
    "# If ‘n’  is odd, print Weird\n",
    "# If  ‘n’ is even and in the inclusive range of 2 to 5, print Not Weird\n",
    "# If  ‘n’ is even and in the inclusive range of 6 to 20 , print Weird\n",
    "# If  ‘n’ is even and greater than 20, print Not Weird\n",
    "\n",
    "def weird(n):\n",
    "    if n%2!=0:\n",
    "        print(\"Weird\")\n",
    "    if n%2==0:\n",
    "        if n>=2 and n<=5:\n",
    "            print(\"Not Weird\")\n",
    "        elif n>=6 and n<=20:\n",
    "            print(\"Weird\")\n",
    "        else:\n",
    "            print(\"Not Weird\")\n",
    "    return\n",
    "weird(22)\n"
   ]
  },
  {
   "cell_type": "code",
   "execution_count": null,
   "metadata": {},
   "outputs": [],
   "source": [
    "# Given the participants ‘n’ score sheet for your University Sports Day, you are required to find the runner-up score.\n",
    "#You are given scores. Store them in a list and find the score of the runner-up.(there can be multiple winners - \n",
    "#if their scores match). \n",
    "\n",
    "# writing data into file:\n",
    "\n",
    "def writefile(filepath):\n",
    "    "
   ]
  }
 ],
 "metadata": {
  "kernelspec": {
   "display_name": "Python 3",
   "language": "python",
   "name": "python3"
  },
  "language_info": {
   "codemirror_mode": {
    "name": "ipython",
    "version": 3
   },
   "file_extension": ".py",
   "mimetype": "text/x-python",
   "name": "python",
   "nbconvert_exporter": "python",
   "pygments_lexer": "ipython3",
   "version": "3.7.3"
  }
 },
 "nbformat": 4,
 "nbformat_minor": 2
}
