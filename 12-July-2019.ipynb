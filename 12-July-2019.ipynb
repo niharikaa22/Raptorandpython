{
 "cells": [
  {
   "cell_type": "code",
   "execution_count": 4,
   "metadata": {},
   "outputs": [
    {
     "name": "stdout",
     "output_type": "stream",
     "text": [
      "1\n",
      "3\n",
      "16\n"
     ]
    }
   ],
   "source": [
    "# How many dots in a pentagonal shape: \n",
    "# 1 iteration--1\n",
    "#2nd iteration --6\n",
    "#3rd iteration--16\n",
    "\n",
    "n=int(input())\n",
    "for i in range(n):\n",
    "    n1=int(input())\n",
    "    s=1\n",
    "    for j in range(n1):\n",
    "        s+=(j*5)\n",
    "    print(s)\n",
    "        \n",
    "        "
   ]
  },
  {
   "cell_type": "code",
   "execution_count": 6,
   "metadata": {},
   "outputs": [
    {
     "name": "stdout",
     "output_type": "stream",
     "text": [
      "1\n",
      "ssdkjd dkfd dkfd\n",
      "Invalid\n"
     ]
    }
   ],
   "source": [
    "## Shiritorin Game:\n",
    "# the first character of the next word should match the last character of the previous word\n",
    "# the words should be repeated\n",
    "\n",
    "\n",
    "n=int(input())\n",
    "for i in range(n):\n",
    "    s=input().split()\n",
    "    if len(s)==1:\n",
    "        print(\"valid\")\n",
    "    else:\n",
    "        status=True\n",
    "        for i in range(1,len(s)):\n",
    "            word1=s[i]\n",
    "            word2=s[i-1]\n",
    "            if word1[0]!=word2[-1]:\n",
    "                status=False\n",
    "        for i in s:\n",
    "            if s.count(i)>1:\n",
    "                status=False\n",
    "        if status:\n",
    "            print(\"Valid\")\n",
    "        else:\n",
    "            print(\"Invalid\")"
   ]
  },
  {
   "cell_type": "code",
   "execution_count": null,
   "metadata": {},
   "outputs": [],
   "source": []
  }
 ],
 "metadata": {
  "kernelspec": {
   "display_name": "Python 3",
   "language": "python",
   "name": "python3"
  },
  "language_info": {
   "codemirror_mode": {
    "name": "ipython",
    "version": 3
   },
   "file_extension": ".py",
   "mimetype": "text/x-python",
   "name": "python",
   "nbconvert_exporter": "python",
   "pygments_lexer": "ipython3",
   "version": "3.7.3"
  }
 },
 "nbformat": 4,
 "nbformat_minor": 2
}
