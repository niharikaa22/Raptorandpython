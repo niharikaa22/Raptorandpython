{
 "cells": [
  {
   "cell_type": "markdown",
   "metadata": {},
   "source": [
    "Bemirps, Emirps, Primes, Composite & FUN\n",
    "\n",
    "A prime number is a number whose only proper (non-self) divisor is 1 (example 13).\n",
    "\n",
    "An emirp (prime spelled backwards) is a non-palindromic prime which, when its digits are reversed, makes another prime. E.g. 13 is a prime, and so is 31. Both are therefore emirps.\n",
    "\n",
    "A bemirp is a prime which is an emirp (makes another prime with its digits reversed), but additionally, makes another prime when flipped upside down (see note). The upside-down version is also an emirp, which makes a group of 4 primes.\n",
    "\n",
    "To illustrate: 11061811, reversed = 11816011, upside-down = 11091811, upside-down reversed = 11819011. All four are primes.\n",
    "\n",
    "Create a program that takes 'N' number of numbers and for each number it returns \"B\" if it’s a bemirp, \"E\" if it's a (non-bemirp) emirp, \"P\" if it's a (non-emirp) prime, or \"C\" (composite / non-prime).\n",
    "\n",
    "Notes\n",
    "\n",
    "6 upside-down is 9 and vice-versa. 0, 1, and 8 are unchanged when flipped. The remaining five digits are unflippable."
   ]
  },
  {
   "cell_type": "code",
   "execution_count": 38,
   "metadata": {},
   "outputs": [],
   "source": [
    "def isprime(n):\n",
    "    count=0\n",
    "    for i in range(1,n+1):\n",
    "        if n%i==0:\n",
    "            count+=1\n",
    "    if count==2:\n",
    "        return True"
   ]
  },
  {
   "cell_type": "code",
   "execution_count": null,
   "metadata": {},
   "outputs": [
    {
     "name": "stdout",
     "output_type": "stream",
     "text": [
      "1\n"
     ]
    }
   ],
   "source": [
    "def isprime(n):\n",
    "    count=0\n",
    "    for i in range(1,n+1):\n",
    "        if n%i==0:\n",
    "            count+=1\n",
    "    if count==2:\n",
    "        return True\n",
    "    \n",
    "n=int(input())\n",
    "for i in range(n):\n",
    "    s=input()\n",
    "    k=''\n",
    "    if isprime(int(s))!=True:\n",
    "        print(\"C\")\n",
    "    else:\n",
    "        l=s[::-1]\n",
    "        #print(l)\n",
    "        if l!=s:\n",
    "            if isprime(int(l))!=True:\n",
    "                print(\"P\")\n",
    "            else:\n",
    "                for i in l:\n",
    "                    if i=='6':\n",
    "                        k+='9'\n",
    "                    elif i=='9':\n",
    "                        k+='6'\n",
    "                    else:\n",
    "                        k+=i\n",
    "                if isprime(int(k)):\n",
    "                        print(\"B\")\n",
    "                else:\n",
    "                    print(\"E\")\n",
    "                    \n",
    "            \n",
    "            \n",
    "                "
   ]
  },
  {
   "cell_type": "code",
   "execution_count": 39,
   "metadata": {},
   "outputs": [
    {
     "name": "stdout",
     "output_type": "stream",
     "text": [
      "1069\n"
     ]
    }
   ],
   "source": [
    "a=\"1096\"\n",
    "for i in a:\n",
    "    if i=='6':\n",
    "        k+='9'\n",
    "    elif i=='9':\n",
    "        k+='6'\n",
    "    else:\n",
    "        k+=i\n",
    "print(k)"
   ]
  },
  {
   "cell_type": "code",
   "execution_count": null,
   "metadata": {},
   "outputs": [],
   "source": []
  }
 ],
 "metadata": {
  "kernelspec": {
   "display_name": "Python 3",
   "language": "python",
   "name": "python3"
  },
  "language_info": {
   "codemirror_mode": {
    "name": "ipython",
    "version": 3
   },
   "file_extension": ".py",
   "mimetype": "text/x-python",
   "name": "python",
   "nbconvert_exporter": "python",
   "pygments_lexer": "ipython3",
   "version": "3.7.3"
  }
 },
 "nbformat": 4,
 "nbformat_minor": 2
}
