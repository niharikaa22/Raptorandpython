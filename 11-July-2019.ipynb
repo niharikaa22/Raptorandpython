{
 "cells": [
  {
   "cell_type": "code",
   "execution_count": 5,
   "metadata": {},
   "outputs": [
    {
     "name": "stdout",
     "output_type": "stream",
     "text": [
      "1\n",
      "83859384020429\n",
      "['8', '3', '5', '9', '4', '0', '2']\n",
      "False\n"
     ]
    }
   ],
   "source": [
    "# Function to check whether the given digit is pandigit or not.\n",
    "\n",
    "t=int(input())\n",
    "l=list(i for i in range(10))\n",
    "u=[]\n",
    "for i in range(t):\n",
    "    n=input()\n",
    "def pandigit(n):\n",
    "    for i in n:\n",
    "        if i not in u:\n",
    "            u.append(i)\n",
    "    #print(u)\n",
    "    if len(u)==len(l):\n",
    "        print(\"True\")\n",
    "    else:\n",
    "        print(\"False\")\n",
    "    return\n",
    "pandigit(n)\n",
    "    \n",
    "    \n"
   ]
  },
  {
   "cell_type": "code",
   "execution_count": 11,
   "metadata": {},
   "outputs": [
    {
     "name": "stdout",
     "output_type": "stream",
     "text": [
      "1\n",
      "1 -2 2\n",
      "[-1, 2, -2]\n",
      "-1\n"
     ]
    }
   ],
   "source": [
    "# Function to find the Additive Inverse:\n",
    "\n",
    "t=int(input())\n",
    "for i in range(t):\n",
    "    n=list(map(int,input().split()))\n",
    "def additive(n):\n",
    "    l=[]\n",
    "    for i in n:\n",
    "        if i<0:\n",
    "            l.append(abs(i))\n",
    "        else:\n",
    "            l.append(i*(-1))\n",
    "    print(l)\n",
    "    print(sum(l))\n",
    "additive(n)\n",
    "        \n",
    "    \n",
    "    \n",
    "\n"
   ]
  },
  {
   "cell_type": "code",
   "execution_count": 14,
   "metadata": {},
   "outputs": [
    {
     "name": "stdout",
     "output_type": "stream",
     "text": [
      "1\n",
      "Hello How are you?\n",
      "Ifmmp Ipx bsf zpv?\n"
     ]
    }
   ],
   "source": [
    "# Function to encode the given text:\n",
    "\n",
    "t=int(input())\n",
    "for i in range(t):\n",
    "    n=input()\n",
    "def encoding(n):\n",
    "    l=[]\n",
    "    for i in n:\n",
    "        if i.isalpha():\n",
    "            l.append(chr(ord(i)+1)) \n",
    "        else:\n",
    "            l.append(i)\n",
    "    print(\"\".join(l))\n",
    "encoding(n)\n",
    "            \n",
    "            \n",
    "    "
   ]
  },
  {
   "cell_type": "code",
   "execution_count": 15,
   "metadata": {},
   "outputs": [
    {
     "name": "stdout",
     "output_type": "stream",
     "text": [
      "1\n",
      "aasdsd dgdgfgd ddgdgd\n",
      "Valid\n",
      "Valid\n",
      "Valid\n"
     ]
    }
   ],
   "source": [
    "n=int(input())\n",
    "for i in range(n):\n",
    "    s=input().split()\n",
    "    #print(len(s))\n",
    "for j in range(0,len(s)-1):\n",
    "    for k in range(j,len(s)):\n",
    "        if s[j]!=s[k]:\n",
    "            #print(\"Valid\")\n",
    "            if s[j][-1]==s[k][0] :\n",
    "                print(\"Valid\")\n",
    "            #print(s[j][-1],s[k][0])\n",
    "            else:\n",
    "                print(\"Invalid\")\n",
    "                            "
   ]
  },
  {
   "cell_type": "code",
   "execution_count": null,
   "metadata": {},
   "outputs": [],
   "source": []
  }
 ],
 "metadata": {
  "kernelspec": {
   "display_name": "Python 3",
   "language": "python",
   "name": "python3"
  },
  "language_info": {
   "codemirror_mode": {
    "name": "ipython",
    "version": 3
   },
   "file_extension": ".py",
   "mimetype": "text/x-python",
   "name": "python",
   "nbconvert_exporter": "python",
   "pygments_lexer": "ipython3",
   "version": "3.7.3"
  }
 },
 "nbformat": 4,
 "nbformat_minor": 2
}
