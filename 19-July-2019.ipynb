{
 "cells": [
  {
   "cell_type": "code",
   "execution_count": 3,
   "metadata": {},
   "outputs": [
    {
     "name": "stdout",
     "output_type": "stream",
     "text": [
      "1\n",
      "4\n",
      "2 5 6 1\n",
      "[1, 1, 2, 2]\n",
      "2 1 2 1 5 6 5 6 "
     ]
    }
   ],
   "source": [
    "## Flash vs Katmos\n",
    "\n",
    "t=int(input())\n",
    "for i in range(t):\n",
    "    n=int(input())\n",
    "    s=list(map(int,input().split()))\n",
    "    b=list(bin(i).replace('0b','') for i in s)\n",
    "    #print(b)\n",
    "    c={s[i]:b[i].count('1') for i in range(len(b))}\n",
    "    #print(c)\n",
    "    v=(sorted(c.values()))\n",
    "    print(v)\n",
    "    for j in range(len(v)):\n",
    "        for i in c.items():\n",
    "            if i[1]==v[j]:\n",
    "                print(i[0],end=\" \")\n",
    "   "
   ]
  },
  {
   "cell_type": "code",
   "execution_count": 1,
   "metadata": {},
   "outputs": [
    {
     "name": "stdout",
     "output_type": "stream",
     "text": [
      "5 3\n",
      "3 5 1 12 7\n",
      "['11', '101', '1', '1100', '111']\n",
      "1 3\n",
      "[1, 3]\n",
      "11\n",
      "1\n",
      "2 3\n",
      "[2, 3]\n",
      "0\n",
      "1 5\n",
      "[1, 5]\n",
      "11\n",
      "1100\n",
      "111\n",
      "3\n"
     ]
    }
   ],
   "source": [
    "## Special Bit Numbers\n",
    "\n",
    "n=list(map(int,input().split()))\n",
    "s=list(map(int,input().split()))\n",
    "s=list(bin(i).replace('0b','') for i in s)\n",
    "print(s)\n",
    "p='11'\n",
    "for i in range(n[1]):\n",
    "    count=0\n",
    "    k=list(map(int,input().split()))\n",
    "    print(k)\n",
    "    for i in range(k[0]-1,k[1]):\n",
    "        if p in s[i]:\n",
    "            count+=1\n",
    "            print(s[i])\n",
    "    print(count)"
   ]
  },
  {
   "cell_type": "code",
   "execution_count": null,
   "metadata": {},
   "outputs": [],
   "source": [
    "# Escape the Night\n",
    "\n",
    "t=int(input())\n",
    "for i in range(t):\n",
    "    n=int(input())\n",
    "    sum=0\n",
    "    #n=list(i for i in range(0,n+1))\n",
    "    #k=list((bin(i).replace('0b','') for i in n))\n",
    "    l={i:(bin(i).replace('0b','')).count('1') for i in range(0,n+1)}\n",
    "    #print(l)\n",
    "    #print(k)\n",
    "    for i in l.items():\n",
    "        if i[1]==2:\n",
    "            sum+=i[0]\n",
    "    print(sum)"
   ]
  },
  {
   "cell_type": "code",
   "execution_count": null,
   "metadata": {},
   "outputs": [],
   "source": []
  },
  {
   "cell_type": "code",
   "execution_count": null,
   "metadata": {},
   "outputs": [],
   "source": []
  }
 ],
 "metadata": {
  "kernelspec": {
   "display_name": "Python 3",
   "language": "python",
   "name": "python3"
  },
  "language_info": {
   "codemirror_mode": {
    "name": "ipython",
    "version": 3
   },
   "file_extension": ".py",
   "mimetype": "text/x-python",
   "name": "python",
   "nbconvert_exporter": "python",
   "pygments_lexer": "ipython3",
   "version": "3.7.3"
  }
 },
 "nbformat": 4,
 "nbformat_minor": 2
}
